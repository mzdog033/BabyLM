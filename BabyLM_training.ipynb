{
  "nbformat": 4,
  "nbformat_minor": 0,
  "metadata": {
    "colab": {
      "provenance": [],
      "authorship_tag": "ABX9TyOeYs/ymavJFdLlZslkpci7",
      "include_colab_link": true
    },
    "kernelspec": {
      "name": "python3",
      "display_name": "Python 3"
    },
    "language_info": {
      "name": "python"
    }
  },
  "cells": [
    {
      "cell_type": "markdown",
      "metadata": {
        "id": "view-in-github",
        "colab_type": "text"
      },
      "source": [
        "<a href=\"https://colab.research.google.com/github/mzdog033/BabyLM/blob/main/BabyLM_training.ipynb\" target=\"_parent\"><img src=\"https://colab.research.google.com/assets/colab-badge.svg\" alt=\"Open In Colab\"/></a>"
      ]
    },
    {
      "cell_type": "code",
      "execution_count": 5,
      "metadata": {
        "colab": {
          "base_uri": "https://localhost:8080/"
        },
        "id": "Ov2Tl4DQ2loq",
        "outputId": "b75da2e9-191d-4a9e-f92d-8256a07c24cd"
      },
      "outputs": [
        {
          "output_type": "stream",
          "name": "stdout",
          "text": [
            "Archive:  /content/baseline-pretraining-main.zip\n",
            "  inflating: baseline-pretraining-main/.gitignore  \n",
            "  inflating: baseline-pretraining-main/Alex read this.md  \n",
            "   creating: baseline-pretraining-main/datasets/\n",
            "   creating: baseline-pretraining-main/datasets/babylm_10M/\n",
            "  inflating: baseline-pretraining-main/datasets/babylm_10M/babylm_10M.txt  \n",
            "  inflating: baseline-pretraining-main/datasets/babylm_10M/REAL_babylm_10M.txt  \n",
            "   creating: baseline-pretraining-main/datasets/babylm_dev/\n",
            "  inflating: baseline-pretraining-main/datasets/babylm_dev/babylm_dev.txt  \n",
            "   creating: baseline-pretraining-main/datasets/babylm_test/\n",
            "  inflating: baseline-pretraining-main/datasets/babylm_test/babylm_test.txt  \n",
            "   creating: baseline-pretraining-main/pt_framework-master/\n",
            "  inflating: baseline-pretraining-main/pt_framework-master/.gitignore  \n",
            "   creating: baseline-pretraining-main/pt_framework-master/build/\n",
            "   creating: baseline-pretraining-main/pt_framework-master/build/bdist.win-amd64/\n",
            "   creating: baseline-pretraining-main/pt_framework-master/build/lib/\n",
            "   creating: baseline-pretraining-main/pt_framework-master/build/lib/pt_framework/\n",
            " extracting: baseline-pretraining-main/pt_framework-master/build/lib/pt_framework/__init__.py  \n",
            "  inflating: baseline-pretraining-main/pt_framework-master/build/lib/pt_framework/base_runner.py  \n",
            "  inflating: baseline-pretraining-main/pt_framework-master/build/lib/pt_framework/checkpoint.py  \n",
            "  inflating: baseline-pretraining-main/pt_framework-master/build/lib/pt_framework/database_interface.py  \n",
            "  inflating: baseline-pretraining-main/pt_framework-master/build/lib/pt_framework/defaults.py  \n",
            "  inflating: baseline-pretraining-main/pt_framework-master/build/lib/pt_framework/dist_utils.py  \n",
            "  inflating: baseline-pretraining-main/pt_framework-master/build/lib/pt_framework/epoch_based_runner.py  \n",
            "   creating: baseline-pretraining-main/pt_framework-master/build/lib/pt_framework/hooks/\n",
            " extracting: baseline-pretraining-main/pt_framework-master/build/lib/pt_framework/hooks/__init__.py  \n",
            "  inflating: baseline-pretraining-main/pt_framework-master/build/lib/pt_framework/hooks/checkpoint.py  \n",
            "  inflating: baseline-pretraining-main/pt_framework-master/build/lib/pt_framework/hooks/hook.py  \n",
            "  inflating: baseline-pretraining-main/pt_framework-master/build/lib/pt_framework/hooks/logger.py  \n",
            "  inflating: baseline-pretraining-main/pt_framework-master/build/lib/pt_framework/hooks/lr_updater.py  \n",
            "  inflating: baseline-pretraining-main/pt_framework-master/build/lib/pt_framework/hooks/optimizer.py  \n",
            "  inflating: baseline-pretraining-main/pt_framework-master/build/lib/pt_framework/hooks/record_saver.py  \n",
            "  inflating: baseline-pretraining-main/pt_framework-master/build/lib/pt_framework/hooks/sampler_seed.py  \n",
            "  inflating: baseline-pretraining-main/pt_framework-master/build/lib/pt_framework/hooks/validate_hook.py  \n",
            "  inflating: baseline-pretraining-main/pt_framework-master/build/lib/pt_framework/priority.py  \n",
            "  inflating: baseline-pretraining-main/pt_framework-master/build/lib/pt_framework/tpu_epoch_based_runner.py  \n",
            "  inflating: baseline-pretraining-main/pt_framework-master/build/lib/pt_framework/utils.py  \n",
            "  inflating: baseline-pretraining-main/pt_framework-master/build/lib/pt_framework/vis_utils.py  \n",
            "  inflating: baseline-pretraining-main/pt_framework-master/README.md  \n",
            "  inflating: baseline-pretraining-main/pt_framework-master/setup.py  \n",
            "   creating: baseline-pretraining-main/pt_framework-master/src/\n",
            "   creating: baseline-pretraining-main/pt_framework-master/src/pt_framework.egg-info/\n",
            " extracting: baseline-pretraining-main/pt_framework-master/src/pt_framework.egg-info/dependency_links.txt  \n",
            "  inflating: baseline-pretraining-main/pt_framework-master/src/pt_framework.egg-info/PKG-INFO  \n",
            " extracting: baseline-pretraining-main/pt_framework-master/src/pt_framework.egg-info/requires.txt  \n",
            "  inflating: baseline-pretraining-main/pt_framework-master/src/pt_framework.egg-info/SOURCES.txt  \n",
            " extracting: baseline-pretraining-main/pt_framework-master/src/pt_framework.egg-info/top_level.txt  \n",
            "   creating: baseline-pretraining-main/pt_framework-master/src/pt_framework/\n",
            " extracting: baseline-pretraining-main/pt_framework-master/src/pt_framework/__init__.py  \n",
            "  inflating: baseline-pretraining-main/pt_framework-master/src/pt_framework/base_runner.py  \n",
            "  inflating: baseline-pretraining-main/pt_framework-master/src/pt_framework/checkpoint.py  \n",
            "  inflating: baseline-pretraining-main/pt_framework-master/src/pt_framework/database_interface.py  \n",
            "  inflating: baseline-pretraining-main/pt_framework-master/src/pt_framework/defaults.py  \n",
            "  inflating: baseline-pretraining-main/pt_framework-master/src/pt_framework/dist_utils.py  \n",
            "  inflating: baseline-pretraining-main/pt_framework-master/src/pt_framework/epoch_based_runner.py  \n",
            "   creating: baseline-pretraining-main/pt_framework-master/src/pt_framework/hooks/\n",
            " extracting: baseline-pretraining-main/pt_framework-master/src/pt_framework/hooks/__init__.py  \n",
            "  inflating: baseline-pretraining-main/pt_framework-master/src/pt_framework/hooks/checkpoint.py  \n",
            "  inflating: baseline-pretraining-main/pt_framework-master/src/pt_framework/hooks/hook.py  \n",
            "  inflating: baseline-pretraining-main/pt_framework-master/src/pt_framework/hooks/logger.py  \n",
            "  inflating: baseline-pretraining-main/pt_framework-master/src/pt_framework/hooks/lr_updater.py  \n",
            "  inflating: baseline-pretraining-main/pt_framework-master/src/pt_framework/hooks/optimizer.py  \n",
            "  inflating: baseline-pretraining-main/pt_framework-master/src/pt_framework/hooks/record_saver.py  \n",
            "  inflating: baseline-pretraining-main/pt_framework-master/src/pt_framework/hooks/sampler_seed.py  \n",
            "  inflating: baseline-pretraining-main/pt_framework-master/src/pt_framework/hooks/validate_hook.py  \n",
            "  inflating: baseline-pretraining-main/pt_framework-master/src/pt_framework/priority.py  \n",
            "  inflating: baseline-pretraining-main/pt_framework-master/src/pt_framework/tpu_epoch_based_runner.py  \n",
            "  inflating: baseline-pretraining-main/pt_framework-master/src/pt_framework/utils.py  \n",
            "  inflating: baseline-pretraining-main/pt_framework-master/src/pt_framework/vis_utils.py  \n",
            "  inflating: baseline-pretraining-main/README.md  \n",
            "   creating: baseline-pretraining-main/scripts/\n",
            "  inflating: baseline-pretraining-main/scripts/general_train.py  \n",
            "  inflating: baseline-pretraining-main/scripts/run_t5_mlm_flax.py  \n",
            "  inflating: baseline-pretraining-main/scripts/train_t5_babylm.sh  \n",
            "  inflating: baseline-pretraining-main/setup.py  \n",
            "   creating: baseline-pretraining-main/src/\n",
            "   creating: baseline-pretraining-main/src/babylm_baseline_train/\n",
            " extracting: baseline-pretraining-main/src/babylm_baseline_train/__init__.py  \n",
            "  inflating: baseline-pretraining-main/src/babylm_baseline_train/basic_param_setter.py  \n",
            "   creating: baseline-pretraining-main/src/babylm_baseline_train/configs/\n",
            " extracting: baseline-pretraining-main/src/babylm_baseline_train/configs/__init__.py  \n",
            "   creating: baseline-pretraining-main/src/babylm_baseline_train/configs/BabyLM/\n",
            " extracting: baseline-pretraining-main/src/babylm_baseline_train/configs/BabyLM/__init__.py  \n",
            "  inflating: baseline-pretraining-main/src/babylm_baseline_train/configs/BabyLM/exp_strict.py  \n",
            "   creating: baseline-pretraining-main/src/babylm_baseline_train/configs/BabyLM/exp_strict_encdec/\n",
            "  inflating: baseline-pretraining-main/src/babylm_baseline_train/configs/BabyLM/exp_strict_encdec/config.json  \n",
            "  inflating: baseline-pretraining-main/src/babylm_baseline_train/configs/BabyLM/exp_strict_mask.py  \n",
            "  inflating: baseline-pretraining-main/src/babylm_baseline_train/configs/general.py  \n",
            "   creating: baseline-pretraining-main/src/babylm_baseline_train/datasets/\n",
            " extracting: baseline-pretraining-main/src/babylm_baseline_train/datasets/__init__.py  \n",
            "  inflating: baseline-pretraining-main/src/babylm_baseline_train/datasets/babyLM.py  \n",
            "  inflating: baseline-pretraining-main/src/babylm_baseline_train/datasets/babyLM_for_hf.py  \n",
            "  inflating: baseline-pretraining-main/src/babylm_baseline_train/datasets/base.py  \n",
            "  inflating: baseline-pretraining-main/src/babylm_baseline_train/datasets/hf_loaders.py  \n",
            "  inflating: baseline-pretraining-main/src/babylm_baseline_train/datasets/utils.py  \n",
            "  inflating: baseline-pretraining-main/src/babylm_baseline_train/env_vars.py  \n",
            "   creating: baseline-pretraining-main/src/babylm_baseline_train/models/\n",
            " extracting: baseline-pretraining-main/src/babylm_baseline_train/models/__init__.py  \n",
            "  inflating: baseline-pretraining-main/src/babylm_baseline_train/models/ckpt_loader.py  \n",
            "  inflating: baseline-pretraining-main/src/babylm_baseline_train/models/helper.py  \n",
            "   creating: baseline-pretraining-main/src/babylm_baseline_train/train/\n",
            " extracting: baseline-pretraining-main/src/babylm_baseline_train/train/__init__.py  \n",
            "  inflating: baseline-pretraining-main/src/babylm_baseline_train/train/env_params.py  \n",
            "  inflating: baseline-pretraining-main/src/babylm_baseline_train/train/tk_funcs.py  \n",
            "  inflating: baseline-pretraining-main/src/babylm_baseline_train/train/utils.py  \n"
          ]
        }
      ],
      "source": [
        "!unzip /content/baseline-pretraining-main.zip"
      ]
    },
    {
      "cell_type": "code",
      "source": [
        "!pip install torch transformers ipdb datasets jax==0.3.21 jaxlib==0.3.20 flax==0.6.1 sentencepiece"
      ],
      "metadata": {
        "colab": {
          "base_uri": "https://localhost:8080/"
        },
        "id": "994KV2Fc2q0j",
        "outputId": "fa2331b9-ff87-4f8e-ab95-6f744a97fbbd"
      },
      "execution_count": 13,
      "outputs": [
        {
          "output_type": "stream",
          "name": "stdout",
          "text": [
            "Requirement already satisfied: torch in /usr/local/lib/python3.10/dist-packages (2.0.1+cu118)\n",
            "Requirement already satisfied: transformers in /usr/local/lib/python3.10/dist-packages (4.30.2)\n",
            "Requirement already satisfied: ipdb in /usr/local/lib/python3.10/dist-packages (0.13.13)\n",
            "Requirement already satisfied: datasets in /usr/local/lib/python3.10/dist-packages (2.13.1)\n",
            "Requirement already satisfied: jax==0.3.21 in /usr/local/lib/python3.10/dist-packages (0.3.21)\n",
            "Requirement already satisfied: jaxlib==0.3.20 in /usr/local/lib/python3.10/dist-packages (0.3.20)\n",
            "Requirement already satisfied: flax==0.6.1 in /usr/local/lib/python3.10/dist-packages (0.6.1)\n",
            "Requirement already satisfied: sentencepiece in /usr/local/lib/python3.10/dist-packages (0.1.99)\n",
            "Requirement already satisfied: absl-py in /usr/local/lib/python3.10/dist-packages (from jax==0.3.21) (1.4.0)\n",
            "Requirement already satisfied: numpy>=1.20 in /usr/local/lib/python3.10/dist-packages (from jax==0.3.21) (1.22.4)\n",
            "Requirement already satisfied: opt-einsum in /usr/local/lib/python3.10/dist-packages (from jax==0.3.21) (3.3.0)\n",
            "Requirement already satisfied: scipy>=1.5 in /usr/local/lib/python3.10/dist-packages (from jax==0.3.21) (1.10.1)\n",
            "Requirement already satisfied: typing-extensions in /usr/local/lib/python3.10/dist-packages (from jax==0.3.21) (4.6.3)\n",
            "Requirement already satisfied: etils[epath] in /usr/local/lib/python3.10/dist-packages (from jax==0.3.21) (1.3.0)\n",
            "Requirement already satisfied: matplotlib in /usr/local/lib/python3.10/dist-packages (from flax==0.6.1) (3.7.1)\n",
            "Requirement already satisfied: msgpack in /usr/local/lib/python3.10/dist-packages (from flax==0.6.1) (1.0.5)\n",
            "Requirement already satisfied: optax in /usr/local/lib/python3.10/dist-packages (from flax==0.6.1) (0.1.5)\n",
            "Requirement already satisfied: rich>=11.1 in /usr/local/lib/python3.10/dist-packages (from flax==0.6.1) (13.4.2)\n",
            "Requirement already satisfied: PyYAML>=5.4.1 in /usr/local/lib/python3.10/dist-packages (from flax==0.6.1) (6.0)\n",
            "Requirement already satisfied: filelock in /usr/local/lib/python3.10/dist-packages (from torch) (3.12.2)\n",
            "Requirement already satisfied: sympy in /usr/local/lib/python3.10/dist-packages (from torch) (1.11.1)\n",
            "Requirement already satisfied: networkx in /usr/local/lib/python3.10/dist-packages (from torch) (3.1)\n",
            "Requirement already satisfied: jinja2 in /usr/local/lib/python3.10/dist-packages (from torch) (3.1.2)\n",
            "Requirement already satisfied: triton==2.0.0 in /usr/local/lib/python3.10/dist-packages (from torch) (2.0.0)\n",
            "Requirement already satisfied: cmake in /usr/local/lib/python3.10/dist-packages (from triton==2.0.0->torch) (3.25.2)\n",
            "Requirement already satisfied: lit in /usr/local/lib/python3.10/dist-packages (from triton==2.0.0->torch) (16.0.6)\n",
            "Requirement already satisfied: huggingface-hub<1.0,>=0.14.1 in /usr/local/lib/python3.10/dist-packages (from transformers) (0.16.2)\n",
            "Requirement already satisfied: packaging>=20.0 in /usr/local/lib/python3.10/dist-packages (from transformers) (23.1)\n",
            "Requirement already satisfied: regex!=2019.12.17 in /usr/local/lib/python3.10/dist-packages (from transformers) (2022.10.31)\n",
            "Requirement already satisfied: requests in /usr/local/lib/python3.10/dist-packages (from transformers) (2.27.1)\n",
            "Requirement already satisfied: tokenizers!=0.11.3,<0.14,>=0.11.1 in /usr/local/lib/python3.10/dist-packages (from transformers) (0.13.3)\n",
            "Requirement already satisfied: safetensors>=0.3.1 in /usr/local/lib/python3.10/dist-packages (from transformers) (0.3.1)\n",
            "Requirement already satisfied: tqdm>=4.27 in /usr/local/lib/python3.10/dist-packages (from transformers) (4.65.0)\n",
            "Requirement already satisfied: ipython>=7.31.1 in /usr/local/lib/python3.10/dist-packages (from ipdb) (7.34.0)\n",
            "Requirement already satisfied: tomli in /usr/local/lib/python3.10/dist-packages (from ipdb) (2.0.1)\n",
            "Requirement already satisfied: decorator in /usr/local/lib/python3.10/dist-packages (from ipdb) (4.4.2)\n",
            "Requirement already satisfied: pyarrow>=8.0.0 in /usr/local/lib/python3.10/dist-packages (from datasets) (9.0.0)\n",
            "Requirement already satisfied: dill<0.3.7,>=0.3.0 in /usr/local/lib/python3.10/dist-packages (from datasets) (0.3.6)\n",
            "Requirement already satisfied: pandas in /usr/local/lib/python3.10/dist-packages (from datasets) (1.5.3)\n",
            "Requirement already satisfied: xxhash in /usr/local/lib/python3.10/dist-packages (from datasets) (3.2.0)\n",
            "Requirement already satisfied: multiprocess in /usr/local/lib/python3.10/dist-packages (from datasets) (0.70.14)\n",
            "Requirement already satisfied: fsspec[http]>=2021.11.1 in /usr/local/lib/python3.10/dist-packages (from datasets) (2023.6.0)\n",
            "Requirement already satisfied: aiohttp in /usr/local/lib/python3.10/dist-packages (from datasets) (3.8.4)\n",
            "Requirement already satisfied: attrs>=17.3.0 in /usr/local/lib/python3.10/dist-packages (from aiohttp->datasets) (23.1.0)\n",
            "Requirement already satisfied: charset-normalizer<4.0,>=2.0 in /usr/local/lib/python3.10/dist-packages (from aiohttp->datasets) (2.0.12)\n",
            "Requirement already satisfied: multidict<7.0,>=4.5 in /usr/local/lib/python3.10/dist-packages (from aiohttp->datasets) (6.0.4)\n",
            "Requirement already satisfied: async-timeout<5.0,>=4.0.0a3 in /usr/local/lib/python3.10/dist-packages (from aiohttp->datasets) (4.0.2)\n",
            "Requirement already satisfied: yarl<2.0,>=1.0 in /usr/local/lib/python3.10/dist-packages (from aiohttp->datasets) (1.9.2)\n",
            "Requirement already satisfied: frozenlist>=1.1.1 in /usr/local/lib/python3.10/dist-packages (from aiohttp->datasets) (1.3.3)\n",
            "Requirement already satisfied: aiosignal>=1.1.2 in /usr/local/lib/python3.10/dist-packages (from aiohttp->datasets) (1.3.1)\n",
            "Requirement already satisfied: setuptools>=18.5 in /usr/local/lib/python3.10/dist-packages (from ipython>=7.31.1->ipdb) (67.7.2)\n",
            "Requirement already satisfied: jedi>=0.16 in /usr/local/lib/python3.10/dist-packages (from ipython>=7.31.1->ipdb) (0.18.2)\n",
            "Requirement already satisfied: pickleshare in /usr/local/lib/python3.10/dist-packages (from ipython>=7.31.1->ipdb) (0.7.5)\n",
            "Requirement already satisfied: traitlets>=4.2 in /usr/local/lib/python3.10/dist-packages (from ipython>=7.31.1->ipdb) (5.7.1)\n",
            "Requirement already satisfied: prompt-toolkit!=3.0.0,!=3.0.1,<3.1.0,>=2.0.0 in /usr/local/lib/python3.10/dist-packages (from ipython>=7.31.1->ipdb) (3.0.38)\n",
            "Requirement already satisfied: pygments in /usr/local/lib/python3.10/dist-packages (from ipython>=7.31.1->ipdb) (2.14.0)\n",
            "Requirement already satisfied: backcall in /usr/local/lib/python3.10/dist-packages (from ipython>=7.31.1->ipdb) (0.2.0)\n",
            "Requirement already satisfied: matplotlib-inline in /usr/local/lib/python3.10/dist-packages (from ipython>=7.31.1->ipdb) (0.1.6)\n",
            "Requirement already satisfied: pexpect>4.3 in /usr/local/lib/python3.10/dist-packages (from ipython>=7.31.1->ipdb) (4.8.0)\n",
            "Requirement already satisfied: urllib3<1.27,>=1.21.1 in /usr/local/lib/python3.10/dist-packages (from requests->transformers) (1.26.16)\n",
            "Requirement already satisfied: certifi>=2017.4.17 in /usr/local/lib/python3.10/dist-packages (from requests->transformers) (2023.5.7)\n",
            "Requirement already satisfied: idna<4,>=2.5 in /usr/local/lib/python3.10/dist-packages (from requests->transformers) (3.4)\n",
            "Requirement already satisfied: markdown-it-py>=2.2.0 in /usr/local/lib/python3.10/dist-packages (from rich>=11.1->flax==0.6.1) (3.0.0)\n",
            "Requirement already satisfied: importlib_resources in /usr/local/lib/python3.10/dist-packages (from etils[epath]->jax==0.3.21) (5.12.0)\n",
            "Requirement already satisfied: zipp in /usr/local/lib/python3.10/dist-packages (from etils[epath]->jax==0.3.21) (3.15.0)\n",
            "Requirement already satisfied: MarkupSafe>=2.0 in /usr/local/lib/python3.10/dist-packages (from jinja2->torch) (2.1.3)\n",
            "Requirement already satisfied: contourpy>=1.0.1 in /usr/local/lib/python3.10/dist-packages (from matplotlib->flax==0.6.1) (1.1.0)\n",
            "Requirement already satisfied: cycler>=0.10 in /usr/local/lib/python3.10/dist-packages (from matplotlib->flax==0.6.1) (0.11.0)\n",
            "Requirement already satisfied: fonttools>=4.22.0 in /usr/local/lib/python3.10/dist-packages (from matplotlib->flax==0.6.1) (4.40.0)\n",
            "Requirement already satisfied: kiwisolver>=1.0.1 in /usr/local/lib/python3.10/dist-packages (from matplotlib->flax==0.6.1) (1.4.4)\n",
            "Requirement already satisfied: pillow>=6.2.0 in /usr/local/lib/python3.10/dist-packages (from matplotlib->flax==0.6.1) (8.4.0)\n",
            "Requirement already satisfied: pyparsing>=2.3.1 in /usr/local/lib/python3.10/dist-packages (from matplotlib->flax==0.6.1) (3.1.0)\n",
            "Requirement already satisfied: python-dateutil>=2.7 in /usr/local/lib/python3.10/dist-packages (from matplotlib->flax==0.6.1) (2.8.2)\n",
            "Requirement already satisfied: chex>=0.1.5 in /usr/local/lib/python3.10/dist-packages (from optax->flax==0.6.1) (0.1.6)\n",
            "Requirement already satisfied: pytz>=2020.1 in /usr/local/lib/python3.10/dist-packages (from pandas->datasets) (2022.7.1)\n",
            "Requirement already satisfied: mpmath>=0.19 in /usr/local/lib/python3.10/dist-packages (from sympy->torch) (1.3.0)\n",
            "Requirement already satisfied: dm-tree>=0.1.5 in /usr/local/lib/python3.10/dist-packages (from chex>=0.1.5->optax->flax==0.6.1) (0.1.8)\n",
            "Requirement already satisfied: toolz>=0.9.0 in /usr/local/lib/python3.10/dist-packages (from chex>=0.1.5->optax->flax==0.6.1) (0.12.0)\n",
            "Requirement already satisfied: parso<0.9.0,>=0.8.0 in /usr/local/lib/python3.10/dist-packages (from jedi>=0.16->ipython>=7.31.1->ipdb) (0.8.3)\n",
            "Requirement already satisfied: mdurl~=0.1 in /usr/local/lib/python3.10/dist-packages (from markdown-it-py>=2.2.0->rich>=11.1->flax==0.6.1) (0.1.2)\n",
            "Requirement already satisfied: ptyprocess>=0.5 in /usr/local/lib/python3.10/dist-packages (from pexpect>4.3->ipython>=7.31.1->ipdb) (0.7.0)\n",
            "Requirement already satisfied: wcwidth in /usr/local/lib/python3.10/dist-packages (from prompt-toolkit!=3.0.0,!=3.0.1,<3.1.0,>=2.0.0->ipython>=7.31.1->ipdb) (0.2.6)\n",
            "Requirement already satisfied: six>=1.5 in /usr/local/lib/python3.10/dist-packages (from python-dateutil>=2.7->matplotlib->flax==0.6.1) (1.16.0)\n"
          ]
        }
      ]
    },
    {
      "cell_type": "code",
      "source": [
        "!bash /content/baseline-pretraining-main/scripts/train_t5_babylm.sh"
      ],
      "metadata": {
        "colab": {
          "base_uri": "https://localhost:8080/"
        },
        "id": "1moivJix3vGq",
        "outputId": "e1321f14-be5e-42d6-cc64-d3eca981e25d"
      },
      "execution_count": null,
      "outputs": [
        {
          "output_type": "stream",
          "name": "stdout",
          "text": [
            "2023-07-06 11:09:04.560543: W tensorflow/compiler/tf2tensorrt/utils/py_utils.cc:38] TF-TRT Warning: Could not find TensorRT\n",
            "WARNING:datasets.builder:Found cached dataset text (/root/.cache/huggingface/datasets/text/default-e7d89630ea2c7e3e/0.0.0/cb1e9bd71a82ad27976be3b12b407850fe2837d80c22c5e03a28949843a8ace2)\n",
            "100% 2/2 [00:00<00:00, 88.10it/s]\n",
            "/usr/local/lib/python3.10/dist-packages/transformers/models/t5/tokenization_t5_fast.py:155: FutureWarning: This tokenizer was incorrectly instantiated with a model max length of 512 which will be corrected in Transformers v5.\n",
            "For now, this behavior is kept to avoid breaking backwards compatibility when padding/encoding with `truncation is True`.\n",
            "- Be aware that you SHOULD NOT rely on t5-base automatically truncating your input to 512 when padding/encoding.\n",
            "- If you want to encode/pad to sequences longer than 512 you can either instantiate this tokenizer with `model_max_length` or pass `max_length` when encoding/padding.\n",
            "- To avoid this warning, please instantiate this tokenizer with `model_max_length` set to your preferred value.\n",
            "  warnings.warn(\n",
            "WARNING:datasets.arrow_dataset:Loading cached processed dataset at /root/.cache/huggingface/datasets/text/default-e7d89630ea2c7e3e/0.0.0/cb1e9bd71a82ad27976be3b12b407850fe2837d80c22c5e03a28949843a8ace2/cache-ca382a97d1586837.arrow\n",
            "Map:  17% 173000/1026747 [00:10<01:22, 10389.16 examples/s]Token indices sequence length is longer than the specified maximum sequence length for this model (524 > 512). Running this sequence through the model will result in indexing errors\n",
            "Map:  36% 366000/1026747 [00:25<00:26, 24817.85 examples/s]"
          ]
        }
      ]
    }
  ]
}