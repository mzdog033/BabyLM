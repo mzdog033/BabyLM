{
  "nbformat": 4,
  "nbformat_minor": 0,
  "metadata": {
    "colab": {
      "provenance": [],
      "authorship_tag": "ABX9TyPz8ci0E7WyusEhU4SxIsDe",
      "include_colab_link": true
    },
    "kernelspec": {
      "name": "python3",
      "display_name": "Python 3"
    },
    "language_info": {
      "name": "python"
    }
  },
  "cells": [
    {
      "cell_type": "markdown",
      "metadata": {
        "id": "view-in-github",
        "colab_type": "text"
      },
      "source": [
        "<a href=\"https://colab.research.google.com/github/mzdog033/BabyLM/blob/main/BabyLM_training.ipynb\" target=\"_parent\"><img src=\"https://colab.research.google.com/assets/colab-badge.svg\" alt=\"Open In Colab\"/></a>"
      ]
    },
    {
      "cell_type": "code",
      "execution_count": 5,
      "metadata": {
        "colab": {
          "base_uri": "https://localhost:8080/"
        },
        "id": "Ov2Tl4DQ2loq",
        "outputId": "b75da2e9-191d-4a9e-f92d-8256a07c24cd"
      },
      "outputs": [
        {
          "output_type": "stream",
          "name": "stdout",
          "text": [
            "Archive:  /content/baseline-pretraining-main.zip\n",
            "  inflating: baseline-pretraining-main/.gitignore  \n",
            "  inflating: baseline-pretraining-main/Alex read this.md  \n",
            "   creating: baseline-pretraining-main/datasets/\n",
            "   creating: baseline-pretraining-main/datasets/babylm_10M/\n",
            "  inflating: baseline-pretraining-main/datasets/babylm_10M/babylm_10M.txt  \n",
            "  inflating: baseline-pretraining-main/datasets/babylm_10M/REAL_babylm_10M.txt  \n",
            "   creating: baseline-pretraining-main/datasets/babylm_dev/\n",
            "  inflating: baseline-pretraining-main/datasets/babylm_dev/babylm_dev.txt  \n",
            "   creating: baseline-pretraining-main/datasets/babylm_test/\n",
            "  inflating: baseline-pretraining-main/datasets/babylm_test/babylm_test.txt  \n",
            "   creating: baseline-pretraining-main/pt_framework-master/\n",
            "  inflating: baseline-pretraining-main/pt_framework-master/.gitignore  \n",
            "   creating: baseline-pretraining-main/pt_framework-master/build/\n",
            "   creating: baseline-pretraining-main/pt_framework-master/build/bdist.win-amd64/\n",
            "   creating: baseline-pretraining-main/pt_framework-master/build/lib/\n",
            "   creating: baseline-pretraining-main/pt_framework-master/build/lib/pt_framework/\n",
            " extracting: baseline-pretraining-main/pt_framework-master/build/lib/pt_framework/__init__.py  \n",
            "  inflating: baseline-pretraining-main/pt_framework-master/build/lib/pt_framework/base_runner.py  \n",
            "  inflating: baseline-pretraining-main/pt_framework-master/build/lib/pt_framework/checkpoint.py  \n",
            "  inflating: baseline-pretraining-main/pt_framework-master/build/lib/pt_framework/database_interface.py  \n",
            "  inflating: baseline-pretraining-main/pt_framework-master/build/lib/pt_framework/defaults.py  \n",
            "  inflating: baseline-pretraining-main/pt_framework-master/build/lib/pt_framework/dist_utils.py  \n",
            "  inflating: baseline-pretraining-main/pt_framework-master/build/lib/pt_framework/epoch_based_runner.py  \n",
            "   creating: baseline-pretraining-main/pt_framework-master/build/lib/pt_framework/hooks/\n",
            " extracting: baseline-pretraining-main/pt_framework-master/build/lib/pt_framework/hooks/__init__.py  \n",
            "  inflating: baseline-pretraining-main/pt_framework-master/build/lib/pt_framework/hooks/checkpoint.py  \n",
            "  inflating: baseline-pretraining-main/pt_framework-master/build/lib/pt_framework/hooks/hook.py  \n",
            "  inflating: baseline-pretraining-main/pt_framework-master/build/lib/pt_framework/hooks/logger.py  \n",
            "  inflating: baseline-pretraining-main/pt_framework-master/build/lib/pt_framework/hooks/lr_updater.py  \n",
            "  inflating: baseline-pretraining-main/pt_framework-master/build/lib/pt_framework/hooks/optimizer.py  \n",
            "  inflating: baseline-pretraining-main/pt_framework-master/build/lib/pt_framework/hooks/record_saver.py  \n",
            "  inflating: baseline-pretraining-main/pt_framework-master/build/lib/pt_framework/hooks/sampler_seed.py  \n",
            "  inflating: baseline-pretraining-main/pt_framework-master/build/lib/pt_framework/hooks/validate_hook.py  \n",
            "  inflating: baseline-pretraining-main/pt_framework-master/build/lib/pt_framework/priority.py  \n",
            "  inflating: baseline-pretraining-main/pt_framework-master/build/lib/pt_framework/tpu_epoch_based_runner.py  \n",
            "  inflating: baseline-pretraining-main/pt_framework-master/build/lib/pt_framework/utils.py  \n",
            "  inflating: baseline-pretraining-main/pt_framework-master/build/lib/pt_framework/vis_utils.py  \n",
            "  inflating: baseline-pretraining-main/pt_framework-master/README.md  \n",
            "  inflating: baseline-pretraining-main/pt_framework-master/setup.py  \n",
            "   creating: baseline-pretraining-main/pt_framework-master/src/\n",
            "   creating: baseline-pretraining-main/pt_framework-master/src/pt_framework.egg-info/\n",
            " extracting: baseline-pretraining-main/pt_framework-master/src/pt_framework.egg-info/dependency_links.txt  \n",
            "  inflating: baseline-pretraining-main/pt_framework-master/src/pt_framework.egg-info/PKG-INFO  \n",
            " extracting: baseline-pretraining-main/pt_framework-master/src/pt_framework.egg-info/requires.txt  \n",
            "  inflating: baseline-pretraining-main/pt_framework-master/src/pt_framework.egg-info/SOURCES.txt  \n",
            " extracting: baseline-pretraining-main/pt_framework-master/src/pt_framework.egg-info/top_level.txt  \n",
            "   creating: baseline-pretraining-main/pt_framework-master/src/pt_framework/\n",
            " extracting: baseline-pretraining-main/pt_framework-master/src/pt_framework/__init__.py  \n",
            "  inflating: baseline-pretraining-main/pt_framework-master/src/pt_framework/base_runner.py  \n",
            "  inflating: baseline-pretraining-main/pt_framework-master/src/pt_framework/checkpoint.py  \n",
            "  inflating: baseline-pretraining-main/pt_framework-master/src/pt_framework/database_interface.py  \n",
            "  inflating: baseline-pretraining-main/pt_framework-master/src/pt_framework/defaults.py  \n",
            "  inflating: baseline-pretraining-main/pt_framework-master/src/pt_framework/dist_utils.py  \n",
            "  inflating: baseline-pretraining-main/pt_framework-master/src/pt_framework/epoch_based_runner.py  \n",
            "   creating: baseline-pretraining-main/pt_framework-master/src/pt_framework/hooks/\n",
            " extracting: baseline-pretraining-main/pt_framework-master/src/pt_framework/hooks/__init__.py  \n",
            "  inflating: baseline-pretraining-main/pt_framework-master/src/pt_framework/hooks/checkpoint.py  \n",
            "  inflating: baseline-pretraining-main/pt_framework-master/src/pt_framework/hooks/hook.py  \n",
            "  inflating: baseline-pretraining-main/pt_framework-master/src/pt_framework/hooks/logger.py  \n",
            "  inflating: baseline-pretraining-main/pt_framework-master/src/pt_framework/hooks/lr_updater.py  \n",
            "  inflating: baseline-pretraining-main/pt_framework-master/src/pt_framework/hooks/optimizer.py  \n",
            "  inflating: baseline-pretraining-main/pt_framework-master/src/pt_framework/hooks/record_saver.py  \n",
            "  inflating: baseline-pretraining-main/pt_framework-master/src/pt_framework/hooks/sampler_seed.py  \n",
            "  inflating: baseline-pretraining-main/pt_framework-master/src/pt_framework/hooks/validate_hook.py  \n",
            "  inflating: baseline-pretraining-main/pt_framework-master/src/pt_framework/priority.py  \n",
            "  inflating: baseline-pretraining-main/pt_framework-master/src/pt_framework/tpu_epoch_based_runner.py  \n",
            "  inflating: baseline-pretraining-main/pt_framework-master/src/pt_framework/utils.py  \n",
            "  inflating: baseline-pretraining-main/pt_framework-master/src/pt_framework/vis_utils.py  \n",
            "  inflating: baseline-pretraining-main/README.md  \n",
            "   creating: baseline-pretraining-main/scripts/\n",
            "  inflating: baseline-pretraining-main/scripts/general_train.py  \n",
            "  inflating: baseline-pretraining-main/scripts/run_t5_mlm_flax.py  \n",
            "  inflating: baseline-pretraining-main/scripts/train_t5_babylm.sh  \n",
            "  inflating: baseline-pretraining-main/setup.py  \n",
            "   creating: baseline-pretraining-main/src/\n",
            "   creating: baseline-pretraining-main/src/babylm_baseline_train/\n",
            " extracting: baseline-pretraining-main/src/babylm_baseline_train/__init__.py  \n",
            "  inflating: baseline-pretraining-main/src/babylm_baseline_train/basic_param_setter.py  \n",
            "   creating: baseline-pretraining-main/src/babylm_baseline_train/configs/\n",
            " extracting: baseline-pretraining-main/src/babylm_baseline_train/configs/__init__.py  \n",
            "   creating: baseline-pretraining-main/src/babylm_baseline_train/configs/BabyLM/\n",
            " extracting: baseline-pretraining-main/src/babylm_baseline_train/configs/BabyLM/__init__.py  \n",
            "  inflating: baseline-pretraining-main/src/babylm_baseline_train/configs/BabyLM/exp_strict.py  \n",
            "   creating: baseline-pretraining-main/src/babylm_baseline_train/configs/BabyLM/exp_strict_encdec/\n",
            "  inflating: baseline-pretraining-main/src/babylm_baseline_train/configs/BabyLM/exp_strict_encdec/config.json  \n",
            "  inflating: baseline-pretraining-main/src/babylm_baseline_train/configs/BabyLM/exp_strict_mask.py  \n",
            "  inflating: baseline-pretraining-main/src/babylm_baseline_train/configs/general.py  \n",
            "   creating: baseline-pretraining-main/src/babylm_baseline_train/datasets/\n",
            " extracting: baseline-pretraining-main/src/babylm_baseline_train/datasets/__init__.py  \n",
            "  inflating: baseline-pretraining-main/src/babylm_baseline_train/datasets/babyLM.py  \n",
            "  inflating: baseline-pretraining-main/src/babylm_baseline_train/datasets/babyLM_for_hf.py  \n",
            "  inflating: baseline-pretraining-main/src/babylm_baseline_train/datasets/base.py  \n",
            "  inflating: baseline-pretraining-main/src/babylm_baseline_train/datasets/hf_loaders.py  \n",
            "  inflating: baseline-pretraining-main/src/babylm_baseline_train/datasets/utils.py  \n",
            "  inflating: baseline-pretraining-main/src/babylm_baseline_train/env_vars.py  \n",
            "   creating: baseline-pretraining-main/src/babylm_baseline_train/models/\n",
            " extracting: baseline-pretraining-main/src/babylm_baseline_train/models/__init__.py  \n",
            "  inflating: baseline-pretraining-main/src/babylm_baseline_train/models/ckpt_loader.py  \n",
            "  inflating: baseline-pretraining-main/src/babylm_baseline_train/models/helper.py  \n",
            "   creating: baseline-pretraining-main/src/babylm_baseline_train/train/\n",
            " extracting: baseline-pretraining-main/src/babylm_baseline_train/train/__init__.py  \n",
            "  inflating: baseline-pretraining-main/src/babylm_baseline_train/train/env_params.py  \n",
            "  inflating: baseline-pretraining-main/src/babylm_baseline_train/train/tk_funcs.py  \n",
            "  inflating: baseline-pretraining-main/src/babylm_baseline_train/train/utils.py  \n"
          ]
        }
      ],
      "source": [
        "!unzip /content/baseline-pretraining-main.zip"
      ]
    },
    {
      "cell_type": "code",
      "source": [
        "!pip install transformers ipdb datasets jax==0.3.21 jaxlib==0.3.20 flax==0.6.1 sentencepiece"
      ],
      "metadata": {
        "colab": {
          "base_uri": "https://localhost:8080/"
        },
        "id": "994KV2Fc2q0j",
        "outputId": "d2367aab-03ca-4629-c29e-42c8deec08cd"
      },
      "execution_count": 1,
      "outputs": [
        {
          "output_type": "stream",
          "name": "stdout",
          "text": [
            "Collecting transformers\n",
            "  Downloading transformers-4.30.2-py3-none-any.whl (7.2 MB)\n",
            "\u001b[2K     \u001b[90m━━━━━━━━━━━━━━━━━━━━━━━━━━━━━━━━━━━━━━━━\u001b[0m \u001b[32m7.2/7.2 MB\u001b[0m \u001b[31m66.7 MB/s\u001b[0m eta \u001b[36m0:00:00\u001b[0m\n",
            "\u001b[?25hCollecting ipdb\n",
            "  Downloading ipdb-0.13.13-py3-none-any.whl (12 kB)\n",
            "Collecting datasets\n",
            "  Downloading datasets-2.13.1-py3-none-any.whl (486 kB)\n",
            "\u001b[2K     \u001b[90m━━━━━━━━━━━━━━━━━━━━━━━━━━━━━━━━━━━━━━\u001b[0m \u001b[32m486.2/486.2 kB\u001b[0m \u001b[31m35.8 MB/s\u001b[0m eta \u001b[36m0:00:00\u001b[0m\n",
            "\u001b[?25hCollecting jax==0.3.21\n",
            "  Downloading jax-0.3.21.tar.gz (1.1 MB)\n",
            "\u001b[2K     \u001b[90m━━━━━━━━━━━━━━━━━━━━━━━━━━━━━━━━━━━━━━━━\u001b[0m \u001b[32m1.1/1.1 MB\u001b[0m \u001b[31m55.8 MB/s\u001b[0m eta \u001b[36m0:00:00\u001b[0m\n",
            "\u001b[?25h  Preparing metadata (setup.py) ... \u001b[?25l\u001b[?25hdone\n",
            "Collecting jaxlib==0.3.20\n",
            "  Downloading jaxlib-0.3.20-cp310-cp310-manylinux2014_x86_64.whl (72.2 MB)\n",
            "\u001b[2K     \u001b[90m━━━━━━━━━━━━━━━━━━━━━━━━━━━━━━━━━━━━━━━━\u001b[0m \u001b[32m72.2/72.2 MB\u001b[0m \u001b[31m8.0 MB/s\u001b[0m eta \u001b[36m0:00:00\u001b[0m\n",
            "\u001b[?25hCollecting flax==0.6.1\n",
            "  Downloading flax-0.6.1-py3-none-any.whl (185 kB)\n",
            "\u001b[2K     \u001b[90m━━━━━━━━━━━━━━━━━━━━━━━━━━━━━━━━━━━━━━\u001b[0m \u001b[32m185.6/185.6 kB\u001b[0m \u001b[31m13.9 MB/s\u001b[0m eta \u001b[36m0:00:00\u001b[0m\n",
            "\u001b[?25hCollecting sentencepiece\n",
            "  Downloading sentencepiece-0.1.99-cp310-cp310-manylinux_2_17_x86_64.manylinux2014_x86_64.whl (1.3 MB)\n",
            "\u001b[2K     \u001b[90m━━━━━━━━━━━━━━━━━━━━━━━━━━━━━━━━━━━━━━━━\u001b[0m \u001b[32m1.3/1.3 MB\u001b[0m \u001b[31m46.0 MB/s\u001b[0m eta \u001b[36m0:00:00\u001b[0m\n",
            "\u001b[?25hRequirement already satisfied: absl-py in /usr/local/lib/python3.10/dist-packages (from jax==0.3.21) (1.4.0)\n",
            "Requirement already satisfied: numpy>=1.20 in /usr/local/lib/python3.10/dist-packages (from jax==0.3.21) (1.22.4)\n",
            "Requirement already satisfied: opt_einsum in /usr/local/lib/python3.10/dist-packages (from jax==0.3.21) (3.3.0)\n",
            "Requirement already satisfied: scipy>=1.5 in /usr/local/lib/python3.10/dist-packages (from jax==0.3.21) (1.10.1)\n",
            "Requirement already satisfied: typing_extensions in /usr/local/lib/python3.10/dist-packages (from jax==0.3.21) (4.6.3)\n",
            "Requirement already satisfied: etils[epath] in /usr/local/lib/python3.10/dist-packages (from jax==0.3.21) (1.3.0)\n",
            "Requirement already satisfied: matplotlib in /usr/local/lib/python3.10/dist-packages (from flax==0.6.1) (3.7.1)\n",
            "Requirement already satisfied: msgpack in /usr/local/lib/python3.10/dist-packages (from flax==0.6.1) (1.0.5)\n",
            "Requirement already satisfied: optax in /usr/local/lib/python3.10/dist-packages (from flax==0.6.1) (0.1.5)\n",
            "Requirement already satisfied: rich>=11.1 in /usr/local/lib/python3.10/dist-packages (from flax==0.6.1) (13.4.2)\n",
            "Requirement already satisfied: PyYAML>=5.4.1 in /usr/local/lib/python3.10/dist-packages (from flax==0.6.1) (6.0)\n",
            "Requirement already satisfied: filelock in /usr/local/lib/python3.10/dist-packages (from transformers) (3.12.2)\n",
            "Collecting huggingface-hub<1.0,>=0.14.1 (from transformers)\n",
            "  Downloading huggingface_hub-0.16.2-py3-none-any.whl (268 kB)\n",
            "\u001b[2K     \u001b[90m━━━━━━━━━━━━━━━━━━━━━━━━━━━━━━━━━━━━━━\u001b[0m \u001b[32m268.5/268.5 kB\u001b[0m \u001b[31m21.3 MB/s\u001b[0m eta \u001b[36m0:00:00\u001b[0m\n",
            "\u001b[?25hRequirement already satisfied: packaging>=20.0 in /usr/local/lib/python3.10/dist-packages (from transformers) (23.1)\n",
            "Requirement already satisfied: regex!=2019.12.17 in /usr/local/lib/python3.10/dist-packages (from transformers) (2022.10.31)\n",
            "Requirement already satisfied: requests in /usr/local/lib/python3.10/dist-packages (from transformers) (2.27.1)\n",
            "Collecting tokenizers!=0.11.3,<0.14,>=0.11.1 (from transformers)\n",
            "  Downloading tokenizers-0.13.3-cp310-cp310-manylinux_2_17_x86_64.manylinux2014_x86_64.whl (7.8 MB)\n",
            "\u001b[2K     \u001b[90m━━━━━━━━━━━━━━━━━━━━━━━━━━━━━━━━━━━━━━━━\u001b[0m \u001b[32m7.8/7.8 MB\u001b[0m \u001b[31m65.8 MB/s\u001b[0m eta \u001b[36m0:00:00\u001b[0m\n",
            "\u001b[?25hCollecting safetensors>=0.3.1 (from transformers)\n",
            "  Downloading safetensors-0.3.1-cp310-cp310-manylinux_2_17_x86_64.manylinux2014_x86_64.whl (1.3 MB)\n",
            "\u001b[2K     \u001b[90m━━━━━━━━━━━━━━━━━━━━━━━━━━━━━━━━━━━━━━━━\u001b[0m \u001b[32m1.3/1.3 MB\u001b[0m \u001b[31m47.5 MB/s\u001b[0m eta \u001b[36m0:00:00\u001b[0m\n",
            "\u001b[?25hRequirement already satisfied: tqdm>=4.27 in /usr/local/lib/python3.10/dist-packages (from transformers) (4.65.0)\n",
            "Requirement already satisfied: ipython>=7.31.1 in /usr/local/lib/python3.10/dist-packages (from ipdb) (7.34.0)\n",
            "Requirement already satisfied: tomli in /usr/local/lib/python3.10/dist-packages (from ipdb) (2.0.1)\n",
            "Requirement already satisfied: decorator in /usr/local/lib/python3.10/dist-packages (from ipdb) (4.4.2)\n",
            "Requirement already satisfied: pyarrow>=8.0.0 in /usr/local/lib/python3.10/dist-packages (from datasets) (9.0.0)\n",
            "Collecting dill<0.3.7,>=0.3.0 (from datasets)\n",
            "  Downloading dill-0.3.6-py3-none-any.whl (110 kB)\n",
            "\u001b[2K     \u001b[90m━━━━━━━━━━━━━━━━━━━━━━━━━━━━━━━━━━━━━━━\u001b[0m \u001b[32m110.5/110.5 kB\u001b[0m \u001b[31m9.7 MB/s\u001b[0m eta \u001b[36m0:00:00\u001b[0m\n",
            "\u001b[?25hRequirement already satisfied: pandas in /usr/local/lib/python3.10/dist-packages (from datasets) (1.5.3)\n",
            "Collecting xxhash (from datasets)\n",
            "  Downloading xxhash-3.2.0-cp310-cp310-manylinux_2_17_x86_64.manylinux2014_x86_64.whl (212 kB)\n",
            "\u001b[2K     \u001b[90m━━━━━━━━━━━━━━━━━━━━━━━━━━━━━━━━━━━━━━\u001b[0m \u001b[32m212.5/212.5 kB\u001b[0m \u001b[31m19.0 MB/s\u001b[0m eta \u001b[36m0:00:00\u001b[0m\n",
            "\u001b[?25hCollecting multiprocess (from datasets)\n",
            "  Downloading multiprocess-0.70.14-py310-none-any.whl (134 kB)\n",
            "\u001b[2K     \u001b[90m━━━━━━━━━━━━━━━━━━━━━━━━━━━━━━━━━━━━━━\u001b[0m \u001b[32m134.3/134.3 kB\u001b[0m \u001b[31m12.9 MB/s\u001b[0m eta \u001b[36m0:00:00\u001b[0m\n",
            "\u001b[?25hRequirement already satisfied: fsspec[http]>=2021.11.1 in /usr/local/lib/python3.10/dist-packages (from datasets) (2023.6.0)\n",
            "Requirement already satisfied: aiohttp in /usr/local/lib/python3.10/dist-packages (from datasets) (3.8.4)\n",
            "Requirement already satisfied: attrs>=17.3.0 in /usr/local/lib/python3.10/dist-packages (from aiohttp->datasets) (23.1.0)\n",
            "Requirement already satisfied: charset-normalizer<4.0,>=2.0 in /usr/local/lib/python3.10/dist-packages (from aiohttp->datasets) (2.0.12)\n",
            "Requirement already satisfied: multidict<7.0,>=4.5 in /usr/local/lib/python3.10/dist-packages (from aiohttp->datasets) (6.0.4)\n",
            "Requirement already satisfied: async-timeout<5.0,>=4.0.0a3 in /usr/local/lib/python3.10/dist-packages (from aiohttp->datasets) (4.0.2)\n",
            "Requirement already satisfied: yarl<2.0,>=1.0 in /usr/local/lib/python3.10/dist-packages (from aiohttp->datasets) (1.9.2)\n",
            "Requirement already satisfied: frozenlist>=1.1.1 in /usr/local/lib/python3.10/dist-packages (from aiohttp->datasets) (1.3.3)\n",
            "Requirement already satisfied: aiosignal>=1.1.2 in /usr/local/lib/python3.10/dist-packages (from aiohttp->datasets) (1.3.1)\n",
            "Requirement already satisfied: setuptools>=18.5 in /usr/local/lib/python3.10/dist-packages (from ipython>=7.31.1->ipdb) (67.7.2)\n",
            "Collecting jedi>=0.16 (from ipython>=7.31.1->ipdb)\n",
            "  Downloading jedi-0.18.2-py2.py3-none-any.whl (1.6 MB)\n",
            "\u001b[2K     \u001b[90m━━━━━━━━━━━━━━━━━━━━━━━━━━━━━━━━━━━━━━━━\u001b[0m \u001b[32m1.6/1.6 MB\u001b[0m \u001b[31m61.8 MB/s\u001b[0m eta \u001b[36m0:00:00\u001b[0m\n",
            "\u001b[?25hRequirement already satisfied: pickleshare in /usr/local/lib/python3.10/dist-packages (from ipython>=7.31.1->ipdb) (0.7.5)\n",
            "Requirement already satisfied: traitlets>=4.2 in /usr/local/lib/python3.10/dist-packages (from ipython>=7.31.1->ipdb) (5.7.1)\n",
            "Requirement already satisfied: prompt-toolkit!=3.0.0,!=3.0.1,<3.1.0,>=2.0.0 in /usr/local/lib/python3.10/dist-packages (from ipython>=7.31.1->ipdb) (3.0.38)\n",
            "Requirement already satisfied: pygments in /usr/local/lib/python3.10/dist-packages (from ipython>=7.31.1->ipdb) (2.14.0)\n",
            "Requirement already satisfied: backcall in /usr/local/lib/python3.10/dist-packages (from ipython>=7.31.1->ipdb) (0.2.0)\n",
            "Requirement already satisfied: matplotlib-inline in /usr/local/lib/python3.10/dist-packages (from ipython>=7.31.1->ipdb) (0.1.6)\n",
            "Requirement already satisfied: pexpect>4.3 in /usr/local/lib/python3.10/dist-packages (from ipython>=7.31.1->ipdb) (4.8.0)\n",
            "Requirement already satisfied: urllib3<1.27,>=1.21.1 in /usr/local/lib/python3.10/dist-packages (from requests->transformers) (1.26.16)\n",
            "Requirement already satisfied: certifi>=2017.4.17 in /usr/local/lib/python3.10/dist-packages (from requests->transformers) (2023.5.7)\n",
            "Requirement already satisfied: idna<4,>=2.5 in /usr/local/lib/python3.10/dist-packages (from requests->transformers) (3.4)\n",
            "Requirement already satisfied: markdown-it-py>=2.2.0 in /usr/local/lib/python3.10/dist-packages (from rich>=11.1->flax==0.6.1) (3.0.0)\n",
            "Requirement already satisfied: importlib_resources in /usr/local/lib/python3.10/dist-packages (from etils[epath]->jax==0.3.21) (5.12.0)\n",
            "Requirement already satisfied: zipp in /usr/local/lib/python3.10/dist-packages (from etils[epath]->jax==0.3.21) (3.15.0)\n",
            "Requirement already satisfied: contourpy>=1.0.1 in /usr/local/lib/python3.10/dist-packages (from matplotlib->flax==0.6.1) (1.1.0)\n",
            "Requirement already satisfied: cycler>=0.10 in /usr/local/lib/python3.10/dist-packages (from matplotlib->flax==0.6.1) (0.11.0)\n",
            "Requirement already satisfied: fonttools>=4.22.0 in /usr/local/lib/python3.10/dist-packages (from matplotlib->flax==0.6.1) (4.40.0)\n",
            "Requirement already satisfied: kiwisolver>=1.0.1 in /usr/local/lib/python3.10/dist-packages (from matplotlib->flax==0.6.1) (1.4.4)\n",
            "Requirement already satisfied: pillow>=6.2.0 in /usr/local/lib/python3.10/dist-packages (from matplotlib->flax==0.6.1) (8.4.0)\n",
            "Requirement already satisfied: pyparsing>=2.3.1 in /usr/local/lib/python3.10/dist-packages (from matplotlib->flax==0.6.1) (3.1.0)\n",
            "Requirement already satisfied: python-dateutil>=2.7 in /usr/local/lib/python3.10/dist-packages (from matplotlib->flax==0.6.1) (2.8.2)\n",
            "Requirement already satisfied: chex>=0.1.5 in /usr/local/lib/python3.10/dist-packages (from optax->flax==0.6.1) (0.1.7)\n",
            "Requirement already satisfied: pytz>=2020.1 in /usr/local/lib/python3.10/dist-packages (from pandas->datasets) (2022.7.1)\n",
            "Requirement already satisfied: dm-tree>=0.1.5 in /usr/local/lib/python3.10/dist-packages (from chex>=0.1.5->optax->flax==0.6.1) (0.1.8)\n",
            "INFO: pip is looking at multiple versions of chex to determine which version is compatible with other requirements. This could take a while.\n",
            "Collecting chex>=0.1.5 (from optax->flax==0.6.1)\n",
            "  Downloading chex-0.1.81-py3-none-any.whl (94 kB)\n",
            "\u001b[2K     \u001b[90m━━━━━━━━━━━━━━━━━━━━━━━━━━━━━━━━━━━━━━━━\u001b[0m \u001b[32m94.5/94.5 kB\u001b[0m \u001b[31m7.9 MB/s\u001b[0m eta \u001b[36m0:00:00\u001b[0m\n",
            "\u001b[?25h  Downloading chex-0.1.6-py3-none-any.whl (87 kB)\n",
            "\u001b[2K     \u001b[90m━━━━━━━━━━━━━━━━━━━━━━━━━━━━━━━━━━━━━━━━\u001b[0m \u001b[32m87.9/87.9 kB\u001b[0m \u001b[31m8.6 MB/s\u001b[0m eta \u001b[36m0:00:00\u001b[0m\n",
            "\u001b[?25hRequirement already satisfied: toolz>=0.9.0 in /usr/local/lib/python3.10/dist-packages (from chex>=0.1.5->optax->flax==0.6.1) (0.12.0)\n",
            "Requirement already satisfied: parso<0.9.0,>=0.8.0 in /usr/local/lib/python3.10/dist-packages (from jedi>=0.16->ipython>=7.31.1->ipdb) (0.8.3)\n",
            "Requirement already satisfied: mdurl~=0.1 in /usr/local/lib/python3.10/dist-packages (from markdown-it-py>=2.2.0->rich>=11.1->flax==0.6.1) (0.1.2)\n",
            "Requirement already satisfied: ptyprocess>=0.5 in /usr/local/lib/python3.10/dist-packages (from pexpect>4.3->ipython>=7.31.1->ipdb) (0.7.0)\n",
            "Requirement already satisfied: wcwidth in /usr/local/lib/python3.10/dist-packages (from prompt-toolkit!=3.0.0,!=3.0.1,<3.1.0,>=2.0.0->ipython>=7.31.1->ipdb) (0.2.6)\n",
            "Requirement already satisfied: six>=1.5 in /usr/local/lib/python3.10/dist-packages (from python-dateutil>=2.7->matplotlib->flax==0.6.1) (1.16.0)\n",
            "Building wheels for collected packages: jax\n",
            "  Building wheel for jax (setup.py) ... \u001b[?25l\u001b[?25hdone\n",
            "  Created wheel for jax: filename=jax-0.3.21-py3-none-any.whl size=1263549 sha256=fab0b0feaf703ce78861090ed826e25f4f75c5004267c786740f2a30420da2c5\n",
            "  Stored in directory: /root/.cache/pip/wheels/ae/c2/44/ee513466f2ce03e7da29a79154423677b7d382869053b2d7dd\n",
            "Successfully built jax\n",
            "Installing collected packages: tokenizers, sentencepiece, safetensors, xxhash, jedi, dill, multiprocess, jaxlib, huggingface-hub, transformers, jax, ipdb, datasets, chex, flax\n",
            "  Attempting uninstall: jaxlib\n",
            "    Found existing installation: jaxlib 0.4.10+cuda11.cudnn86\n",
            "    Uninstalling jaxlib-0.4.10+cuda11.cudnn86:\n",
            "      Successfully uninstalled jaxlib-0.4.10+cuda11.cudnn86\n",
            "  Attempting uninstall: jax\n",
            "    Found existing installation: jax 0.4.10\n",
            "    Uninstalling jax-0.4.10:\n",
            "      Successfully uninstalled jax-0.4.10\n",
            "  Attempting uninstall: chex\n",
            "    Found existing installation: chex 0.1.7\n",
            "    Uninstalling chex-0.1.7:\n",
            "      Successfully uninstalled chex-0.1.7\n",
            "  Attempting uninstall: flax\n",
            "    Found existing installation: flax 0.6.11\n",
            "    Uninstalling flax-0.6.11:\n",
            "      Successfully uninstalled flax-0.6.11\n",
            "\u001b[31mERROR: pip's dependency resolver does not currently take into account all the packages that are installed. This behaviour is the source of the following dependency conflicts.\n",
            "orbax-checkpoint 0.2.6 requires jax>=0.4.9, but you have jax 0.3.21 which is incompatible.\u001b[0m\u001b[31m\n",
            "\u001b[0mSuccessfully installed chex-0.1.6 datasets-2.13.1 dill-0.3.6 flax-0.6.1 huggingface-hub-0.16.2 ipdb-0.13.13 jax-0.3.21 jaxlib-0.3.20 jedi-0.18.2 multiprocess-0.70.14 safetensors-0.3.1 sentencepiece-0.1.99 tokenizers-0.13.3 transformers-4.30.2 xxhash-3.2.0\n"
          ]
        }
      ]
    },
    {
      "cell_type": "code",
      "source": [
        "!pip install jax --upgrade"
      ],
      "metadata": {
        "colab": {
          "base_uri": "https://localhost:8080/"
        },
        "id": "FX1RDc1137M1",
        "outputId": "240aaf8a-584e-4b9b-e944-4e97bf539d3b"
      },
      "execution_count": 3,
      "outputs": [
        {
          "output_type": "stream",
          "name": "stdout",
          "text": [
            "Requirement already satisfied: jax in /usr/local/lib/python3.10/dist-packages (0.3.21)\n",
            "Collecting jax\n",
            "  Downloading jax-0.4.13.tar.gz (1.3 MB)\n",
            "\u001b[2K     \u001b[90m━━━━━━━━━━━━━━━━━━━━━━━━━━━━━━━━━━━━━━━━\u001b[0m \u001b[32m1.3/1.3 MB\u001b[0m \u001b[31m20.4 MB/s\u001b[0m eta \u001b[36m0:00:00\u001b[0m\n",
            "\u001b[?25h  Installing build dependencies ... \u001b[?25l\u001b[?25hdone\n",
            "  Getting requirements to build wheel ... \u001b[?25l\u001b[?25hdone\n",
            "  Preparing metadata (pyproject.toml) ... \u001b[?25l\u001b[?25hdone\n",
            "Requirement already satisfied: ml-dtypes>=0.1.0 in /usr/local/lib/python3.10/dist-packages (from jax) (0.2.0)\n",
            "Requirement already satisfied: numpy>=1.21 in /usr/local/lib/python3.10/dist-packages (from jax) (1.22.4)\n",
            "Requirement already satisfied: opt-einsum in /usr/local/lib/python3.10/dist-packages (from jax) (3.3.0)\n",
            "Requirement already satisfied: scipy>=1.7 in /usr/local/lib/python3.10/dist-packages (from jax) (1.10.1)\n",
            "Building wheels for collected packages: jax\n",
            "  Building wheel for jax (pyproject.toml) ... \u001b[?25l\u001b[?25hdone\n",
            "  Created wheel for jax: filename=jax-0.4.13-py3-none-any.whl size=1518707 sha256=43477e062c671f1766c39cb70a6fedd2867355c3b9f617701e015d063be9f358\n",
            "  Stored in directory: /root/.cache/pip/wheels/f3/7a/25/f297f69029b5e4064e4736a0c4b3996a44cc27781c120bcb99\n",
            "Successfully built jax\n",
            "Installing collected packages: jax\n",
            "  Attempting uninstall: jax\n",
            "    Found existing installation: jax 0.3.21\n",
            "    Uninstalling jax-0.3.21:\n",
            "      Successfully uninstalled jax-0.3.21\n",
            "Successfully installed jax-0.4.13\n"
          ]
        }
      ]
    },
    {
      "cell_type": "code",
      "source": [
        "!bash /content/baseline-pretraining-main/scripts/train_t5_babylm.sh"
      ],
      "metadata": {
        "colab": {
          "base_uri": "https://localhost:8080/"
        },
        "id": "1moivJix3vGq",
        "outputId": "33b39f54-22b9-4e04-d537-b8e78f85caf2"
      },
      "execution_count": 4,
      "outputs": [
        {
          "output_type": "stream",
          "name": "stdout",
          "text": [
            "bash: /content/baseline-pretraining-main/scripts/train_t5_babylm.sh: No such file or directory\n"
          ]
        }
      ]
    }
  ]
}